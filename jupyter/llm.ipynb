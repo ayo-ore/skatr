{
 "cells": [
  {
   "cell_type": "code",
   "execution_count": 2,
   "id": "035c052e-34d1-4930-a74c-d3d67927f402",
   "metadata": {},
   "outputs": [],
   "source": [
    "import numpy as np"
   ]
  },
  {
   "cell_type": "code",
   "execution_count": 1,
   "id": "74e58d90-0314-4c29-9e6d-04c30e246975",
   "metadata": {},
   "outputs": [],
   "source": [
    "from pdf2image import convert_from_path\n",
    "pages = convert_from_path('recovery.pdf')\n",
    "pages[0].save('image.jpg', 'JPEG')"
   ]
  },
  {
   "cell_type": "code",
   "execution_count": 1,
   "id": "c4f39945-3c58-4de9-9567-46f34fcb0472",
   "metadata": {},
   "outputs": [
    {
     "ename": "NameError",
     "evalue": "name 'vit' is not defined",
     "output_type": "error",
     "traceback": [
      "\u001b[0;31m---------------------------------------------------------------------------\u001b[0m",
      "\u001b[0;31mNameError\u001b[0m                                 Traceback (most recent call last)",
      "Cell \u001b[0;32mIn[1], line 5\u001b[0m\n\u001b[1;32m      2\u001b[0m sys\u001b[38;5;241m.\u001b[39mpath\u001b[38;5;241m.\u001b[39mappend(\u001b[38;5;28mstr\u001b[39m(\u001b[38;5;124m\"\u001b[39m\u001b[38;5;124m/remote/gpu03/schiller/skatr/models\u001b[39m\u001b[38;5;124m\"\u001b[39m))\n\u001b[1;32m      3\u001b[0m \u001b[38;5;28;01mimport\u001b[39;00m \u001b[38;5;21;01mllm_vit\u001b[39;00m\n\u001b[0;32m----> 5\u001b[0m vit_model \u001b[38;5;241m=\u001b[39m vit\u001b[38;5;241m.\u001b[39mPretrainedViT(backbone_dir\u001b[38;5;241m=\u001b[39m\u001b[38;5;124m\"\u001b[39m\u001b[38;5;124m/remote/gpu03/schiller/skatr/runs/regression_micro_ViT/2024-10-02_12-00-27\u001b[39m\u001b[38;5;124m\"\u001b[39m)\n",
      "\u001b[0;31mNameError\u001b[0m: name 'vit' is not defined"
     ]
    }
   ],
   "source": [
    "import sys\n",
    "sys.path.append(str(\"/remote/gpu03/schiller/skatr/models/huggingface/Phi-3_5-vision-instruct\"))\n",
    "from skatr_vit_phi3_v import PretrainedViT\n",
    "\n",
    "vit_model = PretrainedViT(backbone_dir=\"/remote/gpu03/schiller/skatr/runs/regression_micro_ViT/2024-10-02_12-00-27\")"
   ]
  },
  {
   "cell_type": "code",
   "execution_count": 6,
   "id": "ee889e37-e6b9-463b-a029-ff2f61d0f07f",
   "metadata": {
    "editable": true,
    "slideshow": {
     "slide_type": ""
    },
    "tags": []
   },
   "outputs": [
    {
     "name": "stderr",
     "output_type": "stream",
     "text": [
      "Loading checkpoint shards: 100%|██████████| 2/2 [00:02<00:00,  1.42s/it]\n"
     ]
    }
   ],
   "source": [
    "import torch\n",
    "from transformers import AutoModelForCausalLM, AutoProcessor, AutoTokenizer, pipeline, BitsAndBytesConfig\n",
    "\n",
    "# quantization_config = BitsAndBytesConfig(load_in_4bit=True)\n",
    "\n",
    "if 'model' in locals():\n",
    "    del model\n",
    "model = AutoModelForCausalLM.from_pretrained( \n",
    "    # \"/remote/gpu03/schiller/ExecLLM/models/huggingface/microsoft/Phi-3.5-MoE-instruct\",\n",
    "    \"/remote/gpu03/schiller/skatr/models/huggingface/Phi-3_5-vision-instruct\",\n",
    "    device_map=\"cuda\",  \n",
    "    torch_dtype=torch.bfloat16,  \n",
    "    trust_remote_code=True,\n",
    "    # quantization_config=quantization_config,\n",
    "    # attn_implementation=\"flash_attention_2\",\n",
    "    ignore_mismatched_sizes=True,\n",
    "    output_loading_info=True,\n",
    ")\n",
    "    \n",
    "# tokenizer = AutoTokenizer.from_pretrained(\"microsoft/Phi-3.5-MoE-instruct\", local_files_only=True) \n",
    "# tokenizer = AutoTokenizer.from_pretrained(\"/remote/gpu03/schiller/ExecLLM/models/huggingface/microsoft/Phi-3.5-vision-instruct\", local_files_only=True) "
   ]
  },
  {
   "cell_type": "code",
   "execution_count": 4,
   "id": "11c36936-f979-4a9a-a49e-d762004ab8b3",
   "metadata": {},
   "outputs": [
    {
     "name": "stderr",
     "output_type": "stream",
     "text": [
      "/remote/gpu03/schiller/skatr/models/huggingface/Phi-3_5-vision-instruct/vit_phi3_v.py:332: FutureWarning: You are using `torch.load` with `weights_only=False` (the current default value), which uses the default pickle module implicitly. It is possible to construct malicious pickle data which will execute arbitrary code during unpickling (See https://github.com/pytorch/pytorch/blob/main/SECURITY.md#untrusted-models for more details). In a future release, the default value for `weights_only` will be flipped to `True`. This limits the functions that could be executed during unpickling. Arbitrary objects will no longer be allowed to be loaded via this mode unless they are explicitly allowlisted by the user via `torch.serialization.add_safe_globals`. We recommend you start setting `weights_only=True` for any use case where you don't have full control of the loaded file. Please open an issue on GitHub for any issues related to this experimental feature.\n",
      "  model_state = torch.load(os.path.join(bb_dir, 'model.pt'))[\"model\"]\n"
     ]
    }
   ],
   "source": [
    "import sys\n",
    "sys.path.append(\"/remote/gpu03/schiller/skatr/models/huggingface/Phi-3_5-vision-instruct\")\n",
    "from skatr_vit_phi3_v import PretrainedViT, Phi3ImageEmbeddingSkatr\n",
    "\n",
    "model[0].config.img_processor = {\n",
    "    \"image_dim_out\": 144,\n",
    "    \"model_name\": \"\",\n",
    "    \"name\": \"vit\",\n",
    "    \"num_img_tokens\": 144,\n",
    "    \"backbone_dir\": \"/remote/gpu03/schiller/skatr/runs/regression_micro_ViT/2024-10-02_12-00-27\"\n",
    "    }\n",
    "embedding_config = {\n",
    "    'embedding_cls': model[0].config.embd_layer['embedding_cls'],\n",
    "    **model[0].config.embd_layer\n",
    "    }\n",
    "model[0].model.vision_embed_tokens = Phi3ImageEmbeddingSkatr(\n",
    "    model[0].config,\n",
    "    wte=model[0].model.embed_tokens,\n",
    "    **embedding_config\n",
    "    )\n",
    "# model[0].model.vision_embed_tokens.img_processor = PretrainedViT(backbone_dir=\"/remote/gpu03/schiller/skatr/runs/regression_micro_ViT/2024-10-02_12-00-27\")\n",
    "# model[0].config.embd_layer['use_hd_transform'] = False\n",
    "# model[0].config.embd_layer['with_learnable_separator'] = False"
   ]
  },
  {
   "cell_type": "code",
   "execution_count": 5,
   "id": "db3446cb-cf56-4052-9e22-bee6a463661d",
   "metadata": {},
   "outputs": [],
   "source": [
    "model[0].save_pretrained(save_directory=\"/remote/gpu03/schiller/skatr/models/custom/Phi3_v_skatr\", safe_serialization=False)"
   ]
  },
  {
   "cell_type": "code",
   "execution_count": null,
   "id": "8c764998-7b2e-4cc5-800c-a26302b2b1e3",
   "metadata": {},
   "outputs": [],
   "source": [
    "processor = AutoProcessor.from_pretrained(\n",
    "    \"/remote/gpu03/schiller/skatr/models/huggingface/Phi-3_5-vision-instruct\", \n",
    "    trust_remote_code=True, \n",
    "    num_crops=4,\n",
    "    local_files_only=True\n",
    ")"
   ]
  },
  {
   "cell_type": "code",
   "execution_count": 2,
   "id": "b57f3866-abbf-48de-9a06-4be6fff1a51c",
   "metadata": {
    "editable": true,
    "slideshow": {
     "slide_type": ""
    },
    "tags": []
   },
   "outputs": [
    {
     "name": "stderr",
     "output_type": "stream",
     "text": [
      "/remote/gpu03/schiller/.conda/envs/skatr/lib/python3.12/site-packages/transformers/generation/configuration_utils.py:601: UserWarning: `do_sample` is set to `False`. However, `temperature` is set to `0.0` -- this flag is only used in sample-based generation modes. You should set `do_sample=True` or unset `temperature`.\n",
      "  warnings.warn(\n",
      "The `seen_tokens` attribute is deprecated and will be removed in v4.41. Use the `cache_position` model input instead.\n"
     ]
    },
    {
     "name": "stdout",
     "output_type": "stream",
     "text": [
      "The image contains a graph with two y-axes and one x-axis. The left y-axis is labeled 'Network' and ranges from 0 to 10, while the right y-axis is labeled 'Net - True' and ranges from 10^-2 to 10^0. The x-axis is labeled 'Truth' and ranges from 0 to 10. There are two sets of data points: one set is plotted against the 'Network' axis and the other against the 'Net - True' axis. The data points against the 'Network' axis form a nearly straight line, indicating a linear relationship. The data points against the 'Net - True' axis form a curve that starts high on the left and decreases towards the right, with a notable dip in the middle. The graph is annotated with 'mWDM' at the top and 'MARE=8.3e-01' at the bottom, suggesting a specific metric or model used in the analysis.\n"
     ]
    }
   ],
   "source": [
    "from PIL import Image \n",
    "\n",
    "images = [Image.open(\"image.jpg\")]\n",
    "placeholder = f\"<|image_1|>\"\n",
    "\n",
    "messages = [\n",
    "    {\"role\": \"user\", \"content\": placeholder+\"Summarize this image.\"},\n",
    "]\n",
    "\n",
    "prompt = processor.tokenizer.apply_chat_template(\n",
    "    messages, \n",
    "    tokenize=False, \n",
    "    add_generation_prompt=True\n",
    ")\n",
    "\n",
    "inputs = processor(prompt, images, return_tensors=\"pt\").to(\"cuda:0\") \n",
    "\n",
    "generation_args = { \n",
    "    \"max_new_tokens\": 1000, \n",
    "    \"temperature\": 0.0, \n",
    "    \"do_sample\": False, \n",
    "} \n",
    "\n",
    "generate_ids = model.generate(\n",
    "    **inputs, \n",
    "    eos_token_id=processor.tokenizer.eos_token_id, \n",
    "    **generation_args\n",
    ")\n",
    "\n",
    "# remove input tokens \n",
    "generate_ids = generate_ids[:, inputs['input_ids'].shape[1]:]\n",
    "response = processor.batch_decode(\n",
    "    generate_ids, \n",
    "    skip_special_tokens=True, \n",
    "    clean_up_tokenization_spaces=False)[0] \n",
    "\n",
    "print(response)"
   ]
  },
  {
   "cell_type": "code",
   "execution_count": null,
   "id": "98a245c3-bb19-4068-9d4f-3f55bd15f8c7",
   "metadata": {},
   "outputs": [],
   "source": [
    "data_dir = '/remote/gpu02/ore/data/x2'\n",
    "index = 1000\n",
    "data_file = data_dir + f\"/run{index}.npz\"\n",
    "data = np.load(data_file)\n",
    "print(data['image'].shape)"
   ]
  },
  {
   "cell_type": "code",
   "execution_count": 30,
   "id": "77a78073-6db9-4183-8a9f-8e014afccfbb",
   "metadata": {},
   "outputs": [
    {
     "name": "stdout",
     "output_type": "stream",
     "text": [
      "{\"image\": [[[0.0, 0.0, 0.0, 0.0, 0.0, 0.0, 0.0, 0.0, 0.0, 0.0, 0.0, 0.0, 0.0, 0.0, 0.0, 0.0, 0.0, 0.0, 0.0, 0.0, 0.0, 0.0, 0.0, 0.0, 0.0, 0.0, 0.0, 0.0, 0.0, 0.0, 0.0, 0.0, 0.0, 0.0, 0.0, 0.0, 0.0, 0.0, 0.0, 0.0, 0.0, 0.0, 0.0, 0.0, 0.0, 0.0, 0.0, 0.0, 0.0, 0.0, 0.0, 0.0, 0.0, 0.0, 0.0, 0.0, 0.0, 0.0, 0.0, 0.0, 0.0, 0.0, 0.0, 0.0, 0.0, 0.0, 0.0, 0.0, 0.0, 0.0, 0.0, 0.0, 0.0, 0.0, 0.0, 0.0, 0.0, 0.0, 0.0, 0.0, 0.0, 0.0, 0.0, 0.0, 0.0, 0.0, 0.0, 0.0, 0.0, 0.0, 0.0, 0.0, 0.0, 0.0, 0.0, 0.0, 0.0, 0.0, 0.0, 0.0, 0.0, 0.0, 0.0, 0.0, 0.0, 0.0, 0.0, 0.0, 0.0, 0.0, 0.0, 0.0, 0.0, 0.0, 0.0, 0.0, 0.0, 0.0, 0.0, 0.0, 0.0, 0.0, 0.0, 0.0, 0.0, 0.0, 0.0, 0.0, 0.0, 0.0, 0.0, 0.0, 0.0, 0.0, 0.0, 0.0, 0.0, 0.0, 0.0, 0.0, 0.0, 0.0, 0.0, 0.0, 0.0, 0.0, 0.0, 0.0, 0.0, 0.0, 0.0, 0.0, 0.0, 0.0, 0.0, 0.0, 0.0, 0.0, 0.0, 0.0, 0.0, 0.0, 0.0, 0.0, 0.0, 0.0, 0.0, 0.0, 0.0, 0.0, 0.0, 0.0, 0.0, 0.0, 0.0, 0.0, 0.0, 0.0, 0.0, 0.0, 0.0, 0.0, 0.0, 0.0, 0.0, 0.0, 0.0, 0.0, 0.0, 0.0, 0.0, 0.0, 0.0, 0.0, 0.0, 0.0, 0.0, 0.\n"
     ]
    }
   ],
   "source": [
    "import json\n",
    "\n",
    "data_dict = {'image': data['image'].tolist(), 'label': data['label'].tolist()}\n",
    "# data_dict = {'image': data['image'][:10,:10,550:600].tolist(), 'label': data['label'].tolist()}\n",
    "data_str = json.dumps(data_dict)\n",
    "# print(data_str[0:1000])"
   ]
  },
  {
   "cell_type": "code",
   "execution_count": 31,
   "id": "0b06b79c-fcd3-4750-86e4-9db13198691d",
   "metadata": {},
   "outputs": [
    {
     "name": "stdout",
     "output_type": "stream",
     "text": [
      "72728172\n"
     ]
    }
   ],
   "source": [
    "messages = [\n",
    "    {\"role\": \"user\", \"content\": data_str},\n",
    "]\n",
    "\n",
    "prompt = processor.tokenizer.apply_chat_template(\n",
    "  messages, \n",
    "  tokenize=True,\n",
    "  add_generation_prompt=True\n",
    ")\n",
    "print(len(prompt))"
   ]
  },
  {
   "cell_type": "code",
   "execution_count": null,
   "id": "0f071151-a229-42c9-94c7-dc73537f7b04",
   "metadata": {},
   "outputs": [],
   "source": []
  }
 ],
 "metadata": {
  "kernelspec": {
   "display_name": "skatr",
   "language": "python",
   "name": "skatr"
  },
  "language_info": {
   "codemirror_mode": {
    "name": "ipython",
    "version": 3
   },
   "file_extension": ".py",
   "mimetype": "text/x-python",
   "name": "python",
   "nbconvert_exporter": "python",
   "pygments_lexer": "ipython3",
   "version": "3.12.2"
  }
 },
 "nbformat": 4,
 "nbformat_minor": 5
}
